{
 "cells": [
  {
   "cell_type": "markdown",
   "metadata": {
    "id": "TV6Yqc_hH3kP"
   },
   "source": [
    "\n",
    "Basic Kaggle Imports\n",
    "---\n",
    "\n",
    "\n"
   ]
  },
  {
   "cell_type": "code",
   "execution_count": 124,
   "metadata": {
    "id": "wtYJQvD3Ah3a"
   },
   "outputs": [],
   "source": [
    "import pandas as pd\n",
    "import numpy as np\n",
    "from sklearn.utils import shuffle\n",
    "import matplotlib.pyplot as pyplot\n",
    "import pickle\n",
    "from matplotlib import style\n",
    "from google.colab import drive\n",
    "from collections import Counter\n",
    "import nltk\n",
    "import re\n",
    "from nltk.corpus import stopwords\n",
    "from nltk.stem import WordNetLemmatizer\n",
    "from sklearn.feature_extraction.text import TfidfVectorizer\n",
    "from sklearn.decomposition import NMF\n",
    "import seaborn as sns\n",
    "import matplotlib.pyplot as plt\n",
    "from sklearn.metrics import davies_bouldin_score\n",
    "from sklearn.model_selection import train_test_split\n",
    "from sklearn.linear_model import LogisticRegression\n",
    "from sklearn.metrics import accuracy_score, classification_report, confusion_matrix"
   ]
  },
  {
   "cell_type": "code",
   "execution_count": 30,
   "metadata": {
    "colab": {
     "base_uri": "https://localhost:8080/"
    },
    "id": "6S-GEahuQMzr",
    "outputId": "f1b7053c-6cdd-462d-c73f-6461467297c3"
   },
   "outputs": [
    {
     "name": "stdout",
     "output_type": "stream",
     "text": [
      "Drive already mounted at /content/drive; to attempt to forcibly remount, call drive.mount(\"/content/drive\", force_remount=True).\n"
     ]
    },
    {
     "name": "stderr",
     "output_type": "stream",
     "text": [
      "[nltk_data] Downloading package stopwords to /root/nltk_data...\n",
      "[nltk_data]   Package stopwords is already up-to-date!\n",
      "[nltk_data] Downloading package wordnet to /root/nltk_data...\n",
      "[nltk_data]   Package wordnet is already up-to-date!\n"
     ]
    },
    {
     "data": {
      "text/plain": [
       "True"
      ]
     },
     "execution_count": 30,
     "metadata": {},
     "output_type": "execute_result"
    }
   ],
   "source": [
    "drive.mount('/content/drive')\n",
    "nltk.download('stopwords')\n",
    "nltk.download('wordnet')"
   ]
  },
  {
   "cell_type": "markdown",
   "metadata": {
    "id": "u0VJ934SH-kB"
   },
   "source": [
    "## EDA"
   ]
  },
  {
   "cell_type": "code",
   "execution_count": 11,
   "metadata": {
    "id": "LrpUADWrKMyd"
   },
   "outputs": [],
   "source": [
    "train_data = pd.read_csv('/content/drive/MyDrive/Colab/data/train.csv')\n",
    "test_data = pd.read_csv('/content/drive/MyDrive/Colab/data/test.csv')"
   ]
  },
  {
   "cell_type": "code",
   "execution_count": 57,
   "metadata": {
    "colab": {
     "base_uri": "https://localhost:8080/",
     "height": 1000
    },
    "id": "rSgwVcqYKOCK",
    "outputId": "2542850a-157c-44b9-9665-072b7d677f90"
   },
   "outputs": [
    {
     "name": "stdout",
     "output_type": "stream",
     "text": [
      "   ArticleId                                               Text  Category  \\\n",
      "0       1833  worldcom ex-boss launches defence lawyers defe...  business   \n",
      "1        154  german business confidence slides german busin...  business   \n",
      "2       1101  bbc poll indicates economic gloom citizens in ...  business   \n",
      "3       1976  lifestyle  governs mobile choice  faster  bett...      tech   \n",
      "4        917  enron bosses in $168m payout eighteen former e...  business   \n",
      "\n",
      "   text_length                                       Cleaned_Text  \n",
      "0         1866  worldcom exboss launch defence lawyer defendin...  \n",
      "1         2016  german business confidence slide german busine...  \n",
      "2         3104  bbc poll indicates economic gloom citizen majo...  \n",
      "3         3618  lifestyle governs mobile choice faster better ...  \n",
      "4         2190  enron boss payout eighteen former enron direct...  \n",
      "<class 'pandas.core.frame.DataFrame'>\n",
      "RangeIndex: 1490 entries, 0 to 1489\n",
      "Data columns (total 5 columns):\n",
      " #   Column        Non-Null Count  Dtype \n",
      "---  ------        --------------  ----- \n",
      " 0   ArticleId     1490 non-null   int64 \n",
      " 1   Text          1490 non-null   object\n",
      " 2   Category      1490 non-null   object\n",
      " 3   text_length   1490 non-null   int64 \n",
      " 4   Cleaned_Text  1490 non-null   object\n",
      "dtypes: int64(2), object(3)\n",
      "memory usage: 58.3+ KB\n",
      "None\n",
      "         ArticleId   text_length\n",
      "count  1490.000000   1490.000000\n",
      "mean   1119.696644   2233.461745\n",
      "std     641.826283   1205.153358\n",
      "min       2.000000    501.000000\n",
      "25%     565.250000   1453.000000\n",
      "50%    1112.500000   1961.000000\n",
      "75%    1680.750000   2751.250000\n",
      "max    2224.000000  18387.000000\n",
      "ArticleId       0\n",
      "Text            0\n",
      "Category        0\n",
      "text_length     0\n",
      "Cleaned_Text    0\n",
      "dtype: int64\n"
     ]
    },
    {
     "data": {
      "image/png": "[encoded data removed]",
      "text/plain": [
       "<Figure size 640x480 with 1 Axes>"
      ]
     },
     "metadata": {},
     "output_type": "display_data"
    }
   ],
   "source": [
    "#Basic train data info\n",
    "print(train_data.head())\n",
    "print(train_data.info())\n",
    "print(train_data.describe())\n",
    "\n",
    "print(train_data.isnull().sum())\n",
    "\n",
    "if 'Category' in train_data.columns:\n",
    "    train_data['Category'].value_counts().plot(kind='bar', title='Category Distribution')"
   ]
  },
  {
   "cell_type": "markdown",
   "metadata": {
    "id": "fY2zjRx-MYxg"
   },
   "source": [
    "Brief info on the data, gathering size, nulls, types of categories and size of each, etc. This just helps me understand the shape of the data if any debugging is necessary.\n"
   ]
  },
  {
   "cell_type": "code",
   "execution_count": 13,
   "metadata": {
    "colab": {
     "base_uri": "https://localhost:8080/",
     "height": 524
    },
    "id": "owFbdXn_Ln6a",
    "outputId": "02efb8b0-5bc4-42bc-911b-b32cc0ed2696"
   },
   "outputs": [
    {
     "data": {
      "image/png": "[encoded data removed]",
      "text/plain": [
       "<Figure size 640x480 with 1 Axes>"
      ]
     },
     "metadata": {},
     "output_type": "display_data"
    },
    {
     "name": "stderr",
     "output_type": "stream",
     "text": [
      "[nltk_data] Downloading package punkt to /root/nltk_data...\n",
      "[nltk_data]   Unzipping tokenizers/punkt.zip.\n"
     ]
    },
    {
     "name": "stdout",
     "output_type": "stream",
     "text": [
      "[('the', 34992), ('to', 16568), ('of', 12970), ('and', 12366), ('a', 12102), ('in', 11696), ('s', 5899), ('for', 5773), ('is', 5478), ('that', 5207)]\n"
     ]
    }
   ],
   "source": [
    "train_data['text_length'] = train_data['Text'].apply(len)\n",
    "\n",
    "# Histogram of text lengths\n",
    "import matplotlib.pyplot as plt\n",
    "train_data['text_length'].hist(bins=50)\n",
    "plt.title('Text Length Distribution')\n",
    "plt.xlabel('Text Length')\n",
    "plt.ylabel('Frequency')\n",
    "plt.show()\n",
    "\n",
    "# Word frequency (top 10 most common words)\n",
    "from collections import Counter\n",
    "import nltk\n",
    "nltk.download('punkt')\n",
    "\n",
    "# Tokenize and count words\n",
    "all_words = ' '.join(train_data['Text']).split()\n",
    "word_freq = Counter(all_words)\n",
    "print(word_freq.most_common(10))"
   ]
  },
  {
   "cell_type": "code",
   "execution_count": 16,
   "metadata": {
    "colab": {
     "base_uri": "https://localhost:8080/"
    },
    "id": "bcBIt-1vMYTH",
    "outputId": "19973909-b70d-42d6-be15-df4549d65dc9"
   },
   "outputs": [
    {
     "name": "stderr",
     "output_type": "stream",
     "text": [
      "[nltk_data] Downloading package punkt to /root/nltk_data...\n",
      "[nltk_data]   Package punkt is already up-to-date!\n"
     ]
    },
    {
     "name": "stdout",
     "output_type": "stream",
     "text": [
      "    Word  Frequency\n",
      "0    the      34992\n",
      "1     to      16568\n",
      "2     of      12970\n",
      "3    and      12366\n",
      "4      a      12102\n",
      "5     in      11696\n",
      "6      s       5899\n",
      "7    for       5773\n",
      "8     is       5478\n",
      "9   that       5207\n",
      "10    it       5000\n",
      "11    on       4991\n",
      "12   was       4019\n",
      "13    he       3866\n",
      "14    be       3803\n",
      "15  with       3482\n",
      "16  said       3401\n",
      "17   has       3250\n",
      "18    as       3245\n",
      "19  have       3133\n"
     ]
    }
   ],
   "source": [
    "# Tokenize and count words in the entire dataset\n",
    "nltk.download('punkt')  # Ensure tokenizer is available\n",
    "all_words = ' '.join(train_data['Text']).lower().split()  # Convert to lowercase and split into words\n",
    "\n",
    "# Count word frequencies\n",
    "word_freq = Counter(all_words)\n",
    "\n",
    "# Convert to a DataFrame for better visualization\n",
    "word_freq_df = pd.DataFrame(word_freq.most_common(20), columns=['Word', 'Frequency'])\n",
    "\n",
    "# Display the ranked list\n",
    "print(word_freq_df)"
   ]
  },
  {
   "cell_type": "markdown",
   "metadata": {
    "id": "0mW28xwLM2x7"
   },
   "source": [
    "The histogram is the count of word length and the list is the most common words. This is simply used before pre-processing to figure out what aspects of the `re` class I will be using"
   ]
  },
  {
   "cell_type": "markdown",
   "metadata": {
    "id": "8gZp33pvM4gI"
   },
   "source": [
    "## Data Cleaning"
   ]
  },
  {
   "cell_type": "code",
   "execution_count": 35,
   "metadata": {
    "colab": {
     "base_uri": "https://localhost:8080/"
    },
    "id": "a0wre1RaM37p",
    "outputId": "076deae4-fe1c-4b56-fea7-76ad528b603b"
   },
   "outputs": [
    {
     "name": "stdout",
     "output_type": "stream",
     "text": [
      "                                                Text  \\\n",
      "0  worldcom ex-boss launches defence lawyers defe...   \n",
      "1  german business confidence slides german busin...   \n",
      "2  bbc poll indicates economic gloom citizens in ...   \n",
      "3  lifestyle  governs mobile choice  faster  bett...   \n",
      "4  enron bosses in $168m payout eighteen former e...   \n",
      "\n",
      "                                        Cleaned_Text  \n",
      "0  worldcom exboss launch defence lawyer defendin...  \n",
      "1  german business confidence slide german busine...  \n",
      "2  bbc poll indicates economic gloom citizen majo...  \n",
      "3  lifestyle governs mobile choice faster better ...  \n",
      "4  enron boss payout eighteen former enron direct...  \n"
     ]
    }
   ],
   "source": [
    "def clean_text(text):\n",
    "    # Convert to lowercase\n",
    "    text = text.lower()\n",
    "    # Remove special characters and numbers\n",
    "    text = re.sub(r'[^a-z\\s]', '', text)\n",
    "    # Tokenize\n",
    "    words = text.split()\n",
    "    # Remove stopwords\n",
    "    stop_words = set(stopwords.words('english'))\n",
    "    words = [word for word in words if word not in stop_words]\n",
    "    # Lemmatize\n",
    "    lemmatizer = WordNetLemmatizer()\n",
    "    words = [lemmatizer.lemmatize(word) for word in words]\n",
    "    # Join back into a single string\n",
    "    return ' '.join(words)\n",
    "\n",
    "# Apply cleaning to the dataset\n",
    "train_data['Cleaned_Text'] = train_data['Text'].apply(clean_text)\n",
    "print(train_data[['Text', 'Cleaned_Text']].head())"
   ]
  },
  {
   "cell_type": "code",
   "execution_count": 36,
   "metadata": {
    "colab": {
     "base_uri": "https://localhost:8080/"
    },
    "id": "9y-VgsazNQdU",
    "outputId": "af1bb480-f6fd-495c-aa58-8f7e4b7ddbb8"
   },
   "outputs": [
    {
     "name": "stdout",
     "output_type": "stream",
     "text": [
      "Original: worldcom ex-boss launches defence lawyers defending former worldcom chief bernie ebbers against a battery of fraud charges have called a company whistleblower as their first witness.  cynthia cooper  worldcom s ex-head of internal accounting  alerted directors to irregular accounting practices at the us telecoms giant in 2002. her warnings led to the collapse of the firm following the discovery of an $11bn (£5.7bn) accounting fraud. mr ebbers has pleaded not guilty to charges of fraud and conspiracy.  prosecution lawyers have argued that mr ebbers orchestrated a series of accounting tricks at worldcom  ordering employees to hide expenses and inflate revenues to meet wall street earnings estimates. but ms cooper  who now runs her own consulting business  told a jury in new york on wednesday that external auditors arthur andersen had approved worldcom s accounting in early 2001 and 2002. she said andersen had given a  green light  to the procedures and practices used by worldcom. mr ebber s lawyers have said he was unaware of the fraud  arguing that auditors did not alert him to any problems.  ms cooper also said that during shareholder meetings mr ebbers often passed over technical questions to the company s finance chief  giving only  brief  answers himself. the prosecution s star witness  former worldcom financial chief scott sullivan  has said that mr ebbers ordered accounting adjustments at the firm  telling him to  hit our books . however  ms cooper said mr sullivan had not mentioned  anything uncomfortable  about worldcom s accounting during a 2001 audit committee meeting. mr ebbers could face a jail sentence of 85 years if convicted of all the charges he is facing. worldcom emerged from bankruptcy protection in 2004  and is now known as mci. last week  mci agreed to a buyout by verizon communications in a deal valued at $6.75bn.\n",
      "Cleaned: worldcom exboss launch defence lawyer defending former worldcom chief bernie ebbers battery fraud charge called company whistleblower first witness cynthia cooper worldcom exhead internal accounting alerted director irregular accounting practice u telecom giant warning led collapse firm following discovery bn bn accounting fraud mr ebbers pleaded guilty charge fraud conspiracy prosecution lawyer argued mr ebbers orchestrated series accounting trick worldcom ordering employee hide expense inflate revenue meet wall street earnings estimate m cooper run consulting business told jury new york wednesday external auditor arthur andersen approved worldcom accounting early said andersen given green light procedure practice used worldcom mr ebber lawyer said unaware fraud arguing auditor alert problem m cooper also said shareholder meeting mr ebbers often passed technical question company finance chief giving brief answer prosecution star witness former worldcom financial chief scott sullivan said mr ebbers ordered accounting adjustment firm telling hit book however m cooper said mr sullivan mentioned anything uncomfortable worldcom accounting audit committee meeting mr ebbers could face jail sentence year convicted charge facing worldcom emerged bankruptcy protection known mci last week mci agreed buyout verizon communication deal valued bn\n",
      "----------------------------------------------------------------------------------------------------\n",
      "Original: german business confidence slides german business confidence fell in february knocking hopes of a speedy recovery in europe s largest economy.  munich-based research institute ifo said that its confidence index fell to 95.5 in february from 97.5 in january  its first decline in three months. the study found that the outlook in both the manufacturing and retail sectors had worsened. observers had been hoping that a more confident business sector would signal that economic activity was picking up.   we re surprised that the ifo index has taken such a knock   said dz bank economist bernd weidensteiner.  the main reason is probably that the domestic economy is still weak  particularly in the retail trade.  economy and labour minister wolfgang clement called the dip in february s ifo confidence figure  a very mild decline . he said that despite the retreat  the index remained at a relatively high level and that he expected  a modest economic upswing  to continue.  germany s economy grew 1.6% last year after shrinking in 2003. however  the economy contracted by 0.2% during the last three months of 2004  mainly due to the reluctance of consumers to spend. latest indications are that growth is still proving elusive and ifo president hans-werner sinn said any improvement in german domestic demand was sluggish. exports had kept things going during the first half of 2004  but demand for exports was then hit as the value of the euro hit record levels making german products less competitive overseas. on top of that  the unemployment rate has been stuck at close to 10% and manufacturing firms  including daimlerchrysler  siemens and volkswagen  have been negotiating with unions over cost cutting measures. analysts said that the ifo figures and germany s continuing problems may delay an interest rate rise by the european central bank. eurozone interest rates are at 2%  but comments from senior officials have recently focused on the threat of inflation  prompting fears that interest rates may rise.\n",
      "Cleaned: german business confidence slide german business confidence fell february knocking hope speedy recovery europe largest economy munichbased research institute ifo said confidence index fell february january first decline three month study found outlook manufacturing retail sector worsened observer hoping confident business sector would signal economic activity picking surprised ifo index taken knock said dz bank economist bernd weidensteiner main reason probably domestic economy still weak particularly retail trade economy labour minister wolfgang clement called dip february ifo confidence figure mild decline said despite retreat index remained relatively high level expected modest economic upswing continue germany economy grew last year shrinking however economy contracted last three month mainly due reluctance consumer spend latest indication growth still proving elusive ifo president hanswerner sinn said improvement german domestic demand sluggish export kept thing going first half demand export hit value euro hit record level making german product less competitive overseas top unemployment rate stuck close manufacturing firm including daimlerchrysler siemens volkswagen negotiating union cost cutting measure analyst said ifo figure germany continuing problem may delay interest rate rise european central bank eurozone interest rate comment senior official recently focused threat inflation prompting fear interest rate may rise\n",
      "----------------------------------------------------------------------------------------------------\n",
      "Original: bbc poll indicates economic gloom citizens in a majority of nations surveyed in a bbc world service poll believe the world economy is worsening.  most respondents also said their national economy was getting worse. but when asked about their own family s financial outlook  a majority in 14 countries said they were positive about the future. almost 23 000 people in 22 countries were questioned for the poll  which was mostly conducted before the asian tsunami disaster. the poll found that a majority or plurality of people in 13 countries believed the economy was going downhill  compared with respondents in nine countries who believed it was improving. those surveyed in three countries were split. in percentage terms  an average of 44% of respondents in each country said the world economy was getting worse  compared to 34% who said it was improving. similarly  48% were pessimistic about their national economy  while 41% were optimistic. and 47% saw their family s economic conditions improving  as against 36% who said they were getting worse.  the poll of 22 953 people was conducted by the international polling firm globescan  together with the program on international policy attitudes (pipa) at the university of maryland.  while the world economy has picked up from difficult times just a few years ago  people seem to not have fully absorbed this development  though they are personally experiencing its effects   said pipa director steven kull.  people around the world are saying:  i m ok  but the world isn t .  there may be a perception that war  terrorism and religious and political divisions are making the world a worse place  even though that has not so far been reflected in global economic performance  says the bbc s elizabeth blunt.  the countries where people were most optimistic  both for the world and for their own families  were two fast-growing developing economies  china and india  followed by indonesia. china has seen two decades of blistering economic growth  which has led to wealth creation on a huge scale  says the bbc s louisa lim in beijing. but the results also may reflect the untrammelled confidence of people who are subject to endless government propaganda about their country s rosy economic future  our correspondent says. south korea was the most pessimistic  while respondents in italy and mexico were also quite gloomy. the bbc s david willey in rome says one reason for that result is the changeover from the lira to the euro in 2001  which is widely viewed as the biggest reason why their wages and salaries are worth less than they used to be. the philippines was among the most upbeat countries on prospects for respondents  families  but one of the most pessimistic about the world economy. pipa conducted the poll from 15 november 2004 to 3 january 2005 across 22 countries in face-to-face or telephone interviews. the interviews took place between 15 november 2004 and 5 january 2005. the margin of error is between 2.5 and 4 points  depending on the country. in eight of the countries  the sample was limited to major metropolitan areas.\n",
      "Cleaned: bbc poll indicates economic gloom citizen majority nation surveyed bbc world service poll believe world economy worsening respondent also said national economy getting worse asked family financial outlook majority country said positive future almost people country questioned poll mostly conducted asian tsunami disaster poll found majority plurality people country believed economy going downhill compared respondent nine country believed improving surveyed three country split percentage term average respondent country said world economy getting worse compared said improving similarly pessimistic national economy optimistic saw family economic condition improving said getting worse poll people conducted international polling firm globescan together program international policy attitude pipa university maryland world economy picked difficult time year ago people seem fully absorbed development though personally experiencing effect said pipa director steven kull people around world saying ok world may perception war terrorism religious political division making world worse place even though far reflected global economic performance say bbc elizabeth blunt country people optimistic world family two fastgrowing developing economy china india followed indonesia china seen two decade blistering economic growth led wealth creation huge scale say bbc louisa lim beijing result also may reflect untrammelled confidence people subject endless government propaganda country rosy economic future correspondent say south korea pessimistic respondent italy mexico also quite gloomy bbc david willey rome say one reason result changeover lira euro widely viewed biggest reason wage salary worth less used philippine among upbeat country prospect respondent family one pessimistic world economy pipa conducted poll november january across country facetoface telephone interview interview took place november january margin error point depending country eight country sample limited major metropolitan area\n",
      "----------------------------------------------------------------------------------------------------\n"
     ]
    }
   ],
   "source": [
    "for i in range(3):  # Display first 3 examples\n",
    "    print(f\"Original: {train_data['Text'].iloc[i]}\")\n",
    "    print(f\"Cleaned: {train_data['Cleaned_Text'].iloc[i]}\")\n",
    "    print(\"-\" * 100)"
   ]
  },
  {
   "cell_type": "markdown",
   "metadata": {
    "id": "wfsiebQ9NMy9"
   },
   "source": [
    "Data cleaning, using the `re` python class to remove and special characters, stopwords, and to tokenize the sentences (words to values)"
   ]
  },
  {
   "cell_type": "markdown",
   "metadata": {
    "id": "CMA67uBxP8YF"
   },
   "source": [
    "## Building the Model"
   ]
  },
  {
   "cell_type": "code",
   "execution_count": null,
   "metadata": {
    "colab": {
     "base_uri": "https://localhost:8080/"
    },
    "id": "lK2tSkRxP_0U",
    "outputId": "a41ab020-e001-4334-fcb1-a0e1ab063ea1"
   },
   "outputs": [
    {
     "name": "stdout",
     "output_type": "stream",
     "text": [
      "W shape (Document-Topic matrix): (1490, 5)\n",
      "H shape (Topic-Word matrix): (5, 1000)\n",
      "\n",
      "Topic 1:\n",
      "Top words: mr, labour, election, blair, party, said, tory, brown, minister, government\n",
      "\n",
      "Topic 2:\n",
      "Top words: game, england, player, win, match, said, cup, champion, wale, team\n",
      "\n",
      "Topic 3:\n",
      "Top words: film, award, best, actor, oscar, star, actress, director, festival, nomination\n",
      "\n",
      "Topic 4:\n",
      "Top words: bn, said, firm, company, market, growth, sale, share, year, bank\n",
      "\n",
      "Topic 5:\n",
      "Top words: mobile, phone, people, technology, service, music, user, said, software, digital\n"
     ]
    }
   ],
   "source": [
    "vectorizer = TfidfVectorizer(max_features=1000, stop_words='english')\n",
    "X = vectorizer.fit_transform(train_data['Cleaned_Text'])\n",
    "\n",
    "n_topics = 5\n",
    "nmf = NMF(n_components=n_topics, random_state=42)\n",
    "W = nmf.fit_transform(X)  # The document-topic matrix\n",
    "H = nmf.components_  # The topic-word matrix\n",
    "\n",
    "print(\"W shape (Document-Topic matrix):\", W.shape)\n",
    "print(\"H shape (Topic-Word matrix):\", H.shape)\n",
    "\n",
    "# Check the top words for each topic\n",
    "terms = vectorizer.get_feature_names_out()\n",
    "\n",
    "for i, topic in enumerate(H):\n",
    "    print(f\"\\nTopic {i+1}:\")\n",
    "    top_words_idx = topic.argsort()[-10:][::-1]  # Get indices of the top 10 words for each topic\n",
    "    top_words = [terms[idx] for idx in top_words_idx]\n",
    "    print(\"Top words:\", \", \".join(top_words))"
   ]
  },
  {
   "cell_type": "markdown",
   "metadata": {
    "id": "dO2715kCQX1T"
   },
   "source": [
    "I picked TFID from the rubric as my text-to-matrix method. From what I read, it takes a score of a \"term frequency\" and \"inverse document frequency\" and then multiplies them together. This then gives an \"importance\" score that should determine if a word is necessary or not. We plum the cleaned text into this and then apply it to sklearn's NMF model."
   ]
  },
  {
   "cell_type": "code",
   "execution_count": 119,
   "metadata": {
    "colab": {
     "base_uri": "https://localhost:8080/"
    },
    "id": "VQC4xWW-VxCH",
    "outputId": "3af5e8c1-8787-46c6-cbf9-6a40ff0331b6"
   },
   "outputs": [
    {
     "name": "stdout",
     "output_type": "stream",
     "text": [
      "Davies-Bouldin Index: 0.6845\n"
     ]
    }
   ],
   "source": [
    "train_predicted_topics = np.argmax(W, axis=1)\n",
    "# Davies-Bouldin score using W (Document-Topic matrix)\n",
    "db_score = davies_bouldin_score(W, train_predicted_topics)\n",
    "print(f\"Davies-Bouldin Index: {db_score:.4f}\")"
   ]
  },
  {
   "cell_type": "markdown",
   "metadata": {
    "id": "-lgtdl3mX8LD"
   },
   "source": [
    "Tuning some of the hyperparamaters yeilds a much higher score but much slower processing time"
   ]
  },
  {
   "cell_type": "code",
   "execution_count": null,
   "metadata": {
    "colab": {
     "base_uri": "https://localhost:8080/"
    },
    "id": "JYBTb4NKX7v0",
    "outputId": "890a5092-5b8c-4978-a057-62d0b14d4c0c"
   },
   "outputs": [
    {
     "name": "stdout",
     "output_type": "stream",
     "text": [
      "W shape (Document-Topic matrix): (1490, 8)\n",
      "H shape (Topic-Word matrix): (8, 10000)\n",
      "\n",
      "Topic 1:\n",
      "Top words: mobile, phone, technology, gadget, people, music, digital, camera, device, service\n",
      "\n",
      "Topic 2:\n",
      "Top words: labour, mr, election, blair, party, brown, tory, tax, howard, chancellor\n",
      "\n",
      "Topic 3:\n",
      "Top words: film, award, best, actor, oscar, actress, nomination, director, star, festival\n",
      "\n",
      "Topic 4:\n",
      "Top words: game, england, win, player, wale, ireland, match, cup, team, champion\n",
      "\n",
      "Topic 5:\n",
      "Top words: growth, bn, economy, rate, economic, market, bank, dollar, year, price\n",
      "\n",
      "Topic 6:\n",
      "Top words: said, mr, lord, government, law, eu, court, minister, secretary, plan\n",
      "\n",
      "Topic 7:\n",
      "Top words: email, software, microsoft, virus, user, program, search, net, site, security\n",
      "\n",
      "Topic 8:\n",
      "Top words: band, chart, music, album, single, song, number, sale, elvis, rock\n"
     ]
    }
   ],
   "source": [
    "vectorizer = TfidfVectorizer(max_features=10000, stop_words='english')\n",
    "X = vectorizer.fit_transform(train_data['Cleaned_Text'])\n",
    "\n",
    "n_topics = 8\n",
    "nmf = NMF(n_components=n_topics, random_state=42)\n",
    "W = nmf.fit_transform(X)  # The document-topic matrix\n",
    "H = nmf.components_  # The topic-word matrix\n",
    "\n",
    "print(\"W shape (Document-Topic matrix):\", W.shape)\n",
    "print(\"H shape (Topic-Word matrix):\", H.shape)\n",
    "\n",
    "# Check the top words for each topic\n",
    "terms = vectorizer.get_feature_names_out()\n",
    "\n",
    "for i, topic in enumerate(H):\n",
    "    print(f\"\\nTopic {i+1}:\")\n",
    "    top_words_idx = topic.argsort()[-10:][::-1]  # Get indices of the top 10 words for each topic\n",
    "    top_words = [terms[idx] for idx in top_words_idx]\n",
    "    print(\"Top words:\", \", \".join(top_words))"
   ]
  },
  {
   "cell_type": "code",
   "execution_count": 123,
   "metadata": {
    "colab": {
     "base_uri": "https://localhost:8080/"
    },
    "id": "-xYRUijJYLeo",
    "outputId": "70987864-8713-4831-a243-7fd2751c5be1"
   },
   "outputs": [
    {
     "name": "stdout",
     "output_type": "stream",
     "text": [
      "Davies-Bouldin Index: 0.8598\n"
     ]
    }
   ],
   "source": [
    "train_predicted_topics = np.argmax(W, axis=1)\n",
    "# Davies-Bouldin score using W (Document-Topic matrix)\n",
    "db_score = davies_bouldin_score(W, train_predicted_topics)\n",
    "print(f\"Davies-Bouldin Index: {db_score:.4f}\")"
   ]
  },
  {
   "cell_type": "markdown",
   "metadata": {
    "id": "SdobeHwzYQJz"
   },
   "source": [
    "0.6845 to 0.8598"
   ]
  },
  {
   "cell_type": "code",
   "execution_count": 125,
   "metadata": {
    "id": "VK6fwJNOkp78"
   },
   "outputs": [],
   "source": [
    "# Vectorize the training and testing data using TF-IDF\n",
    "vectorizer = TfidfVectorizer(stop_words='english', max_features=5000)  # You can adjust max_features if needed\n",
    "X = vectorizer.fit_transform(train_data['Cleaned_Text'])\n",
    "\n",
    "# Extract labels (categories) for training\n",
    "y = train_data['Category']  # Ensure the 'Category' column exists in your training data\n",
    "\n",
    "# Split into train and test sets (using 80% for training and 20% for testing)\n",
    "X_train, X_test, y_train, y_test = train_test_split(X, y, test_size=0.2, random_state=42)"
   ]
  },
  {
   "cell_type": "code",
   "execution_count": 127,
   "metadata": {
    "id": "I2H4LCOalBo7"
   },
   "outputs": [],
   "source": [
    "log_reg = LogisticRegression(max_iter=1000)\n",
    "log_reg.fit(X_train, y_train)\n",
    "\n",
    "# Predict on both train and test sets\n",
    "y_train_pred = log_reg.predict(X_train)\n",
    "y_test_pred = log_reg.predict(X_test)"
   ]
  },
  {
   "cell_type": "code",
   "execution_count": 128,
   "metadata": {
    "colab": {
     "base_uri": "https://localhost:8080/"
    },
    "id": "P2ZL5z5IlHYJ",
    "outputId": "14553ab5-3a44-4c8b-8e69-d59a0232ed4b"
   },
   "outputs": [
    {
     "name": "stdout",
     "output_type": "stream",
     "text": [
      "Train Accuracy: 0.9966\n",
      "Test Accuracy: 0.9664\n",
      "\n",
      "Train Confusion Matrix:\n",
      " [[260   0   0   0   1]\n",
      " [  0 227   0   0   0]\n",
      " [  0   0 217   0   1]\n",
      " [  1   0   0 282   0]\n",
      " [  0   1   0   0 202]]\n",
      "\n",
      "Test Confusion Matrix:\n",
      " [[73  0  1  0  1]\n",
      " [ 0 46  0  0  0]\n",
      " [ 2  0 53  1  0]\n",
      " [ 0  0  0 63  0]\n",
      " [ 0  1  2  2 53]]\n",
      "\n",
      "Train Classification Report:\n",
      "                precision    recall  f1-score   support\n",
      "\n",
      "     business       1.00      1.00      1.00       261\n",
      "entertainment       1.00      1.00      1.00       227\n",
      "     politics       1.00      1.00      1.00       218\n",
      "        sport       1.00      1.00      1.00       283\n",
      "         tech       0.99      1.00      0.99       203\n",
      "\n",
      "     accuracy                           1.00      1192\n",
      "    macro avg       1.00      1.00      1.00      1192\n",
      " weighted avg       1.00      1.00      1.00      1192\n",
      "\n",
      "\n",
      "Test Classification Report:\n",
      "                precision    recall  f1-score   support\n",
      "\n",
      "     business       0.97      0.97      0.97        75\n",
      "entertainment       0.98      1.00      0.99        46\n",
      "     politics       0.95      0.95      0.95        56\n",
      "        sport       0.95      1.00      0.98        63\n",
      "         tech       0.98      0.91      0.95        58\n",
      "\n",
      "     accuracy                           0.97       298\n",
      "    macro avg       0.97      0.97      0.97       298\n",
      " weighted avg       0.97      0.97      0.97       298\n",
      "\n"
     ]
    }
   ],
   "source": [
    "# Accuracy on train and test sets\n",
    "train_accuracy = accuracy_score(y_train, y_train_pred)\n",
    "test_accuracy = accuracy_score(y_test, y_test_pred)\n",
    "\n",
    "# Confusion Matrix for train and test sets\n",
    "train_conf_matrix = confusion_matrix(y_train, y_train_pred)\n",
    "test_conf_matrix = confusion_matrix(y_test, y_test_pred)\n",
    "\n",
    "# Classification report for train and test sets (includes precision, recall, F1-score)\n",
    "train_class_report = classification_report(y_train, y_train_pred)\n",
    "test_class_report = classification_report(y_test, y_test_pred)\n",
    "\n",
    "# Print results\n",
    "print(f\"Train Accuracy: {train_accuracy:.4f}\")\n",
    "print(f\"Test Accuracy: {test_accuracy:.4f}\")\n",
    "print(\"\\nTrain Confusion Matrix:\\n\", train_conf_matrix)\n",
    "print(\"\\nTest Confusion Matrix:\\n\", test_conf_matrix)\n",
    "print(\"\\nTrain Classification Report:\\n\", train_class_report)\n",
    "print(\"\\nTest Classification Report:\\n\", test_class_report)"
   ]
  },
  {
   "cell_type": "markdown",
   "metadata": {
    "id": "B77ow6_2mSC3"
   },
   "source": [
    "## Discussion"
   ]
  },
  {
   "cell_type": "markdown",
   "metadata": {
    "id": "GKPmte6bk6Xu"
   },
   "source": [
    "\n",
    "This approach was significantly faster, it was more effective (0.9966 vs 0.8598) and required less tweaking. The only advantage here is that we can even perform supervised learning because we have labels. Considering that we acheived a score of 0.859 is fantastic for an unsupervised model, if the data had no labels this would be the only score we would see."
   ]
  },
  {
   "cell_type": "markdown",
   "metadata": {
    "id": "yTMWpjtHN5Rl"
   },
   "source": [
    "## References"
   ]
  },
  {
   "cell_type": "markdown",
   "metadata": {
    "id": "nlZFHKiLN7sY"
   },
   "source": [
    "What is NLP?: https://www.datacamp.com/blog/what-is-natural-language-processing?utm_source=google&utm_medium=paid_search&utm_campaignid=19589720830&utm_adgroupid=152984016214&utm_device=c&utm_keyword=&utm_matchtype=&utm_network=g&utm_adpostion=&utm_creative=720362650786&utm_targetid=dsa-2222697810918&utm_loc_interest_ms=&utm_loc_physical_ms=9194525&utm_content=DSA~blog~Machine-Learning&utm_campaign=230119_1-sea~dsa~tofu_2-b2c_3-us_4-prc_5-na_6-na_7-le_8-pdsh-go_9-nb-e_10-na_11-na-bfcm24&gad_source=1&gclid=CjwKCAiA0rW6BhAcEiwAQH28ItzkLDKh1aJFPovKNebyUIISmeoGR4pa0t82ZKYAeVNo9ZJHV_vwnBoCAs4QAvD_BwE\n",
    "\n",
    "---\n",
    "\n",
    "Re Library: https://docs.python.org/3/library/re.html\n",
    "\n",
    "---\n",
    "\n",
    "NLTK: https://www.nltk.org/api/nltk.html\n",
    "\n",
    "---\n",
    "\n",
    "TFID Overview: https://www.geeksforgeeks.org/understanding-tf-idf-term-frequency-inverse-document-frequency/\n",
    "\n",
    "---\n",
    "\n",
    "TFID Vectorizer: https://scikit-learn.org/1.5/modules/generated/sklearn.feature_extraction.text.TfidfVectorizer.html\n",
    "\n",
    "---\n",
    "\n",
    "DB Score: https://www.geeksforgeeks.org/davies-bouldin-index/\n"
   ]
  },
  {
   "cell_type": "markdown",
   "metadata": {
    "id": "gDPbj8eCmUmL"
   },
   "source": [
    "## Github Link"
   ]
  },
  {
   "cell_type": "markdown",
   "metadata": {
    "id": "8JT9y8GUmWIC"
   },
   "source": [
    "https://github.com/gmark/week4bbcnewslab"
   ]
  }
 ],
 "metadata": {
  "colab": {
   "provenance": []
  },
  "kernelspec": {
   "display_name": "Python 3",
   "name": "python3"
  },
  "language_info": {
   "name": "python"
  }
 },
 "nbformat": 4,
 "nbformat_minor": 0
}
