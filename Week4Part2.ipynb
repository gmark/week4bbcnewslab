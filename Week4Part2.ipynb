{
 "cells": [
  {
   "cell_type": "markdown",
   "metadata": {},
   "source": [
    "## Load data and use NMF matrix factorization"
   ]
  },
  {
   "cell_type": "code",
   "execution_count": null,
   "metadata": {},
   "outputs": [],
   "source": [
    "import pandas as pd\n",
    "import numpy as np\n",
    "from sklearn.decomposition import TruncatedSVD\n",
    "from sklearn.metrics import mean_squared_error\n",
    "from math import sqrt\n",
    "from collections import namedtuple\n",
    "from sklearn.decomposition import NMF\n",
    "from sklearn.metrics import mean_squared_error"
   ]
  },
  {
   "cell_type": "code",
   "execution_count": 2,
   "metadata": {},
   "outputs": [],
   "source": [
    "MV_users = pd.read_csv('data/users.csv')\n",
    "MV_movies = pd.read_csv('data/movies.csv')\n",
    "train = pd.read_csv('data/train.csv')\n",
    "test = pd.read_csv('data/test.csv')"
   ]
  },
  {
   "cell_type": "code",
   "execution_count": 15,
   "metadata": {},
   "outputs": [
    {
     "name": "stdout",
     "output_type": "stream",
     "text": [
      "    uID   mID  rating\n",
      "0   744  1210       5\n",
      "1  3040  1584       4\n",
      "2  1451  1293       5\n",
      "3  5455  3176       2\n",
      "4  2507  3074       5\n"
     ]
    }
   ],
   "source": [
    "print(train.head())"
   ]
  },
  {
   "cell_type": "code",
   "execution_count": 14,
   "metadata": {},
   "outputs": [
    {
     "name": "stdout",
     "output_type": "stream",
     "text": [
      "RMSE: 3.03131775089857\n"
     ]
    }
   ],
   "source": [
    "R_df = train.pivot_table(index='uID', columns='mID', values='rating')\n",
    "\n",
    "# Fill missing values with 0\n",
    "R_df_filled = R_df.fillna(0)\n",
    "\n",
    "# Apply NMF\n",
    "nmf = NMF(n_components=3, random_state=42)  # Adjust `n_components` as needed\n",
    "W = nmf.fit_transform(R_df_filled)\n",
    "H = nmf.components_\n",
    "\n",
    "# Reconstruct the matrix\n",
    "predicted_ratings = np.dot(W, H)\n",
    "\n",
    "# Convert the predicted matrix back into a DataFrame\n",
    "predicted_ratings_df = pd.DataFrame(predicted_ratings, index=R_df.index, columns=R_df.columns)\n",
    "\n",
    "# Calculate RMSE\n",
    "true_ratings = R_df.values\n",
    "mask = (true_ratings > 0)  # Only consider the original (non-zero) ratings\n",
    "\n",
    "# Compute RMSE\n",
    "rmse = sqrt(mean_squared_error(true_ratings[mask], predicted_ratings[mask]))\n",
    "print(f'RMSE: {rmse}')"
   ]
  },
  {
   "cell_type": "markdown",
   "metadata": {},
   "source": [
    "## Discussion\n"
   ]
  },
  {
   "cell_type": "markdown",
   "metadata": {},
   "source": [
    "The results show that this method is quite terrible in comparison to simple baseline. This could be due to various reasons but I think the two main culprits are overfitting and data spasity. The data is movie ratings, which would mean it's dependent on people providing a review and that just doesnt happen 100% of the time. The model might have a hard time calculating all the missing values since there would be a higher average than most other datasests."
   ]
  }
 ],
 "metadata": {
  "kernelspec": {
   "display_name": "Python 3",
   "language": "python",
   "name": "python3"
  },
  "language_info": {
   "codemirror_mode": {
    "name": "ipython",
    "version": 3
   },
   "file_extension": ".py",
   "mimetype": "text/x-python",
   "name": "python",
   "nbconvert_exporter": "python",
   "pygments_lexer": "ipython3",
   "version": "3.12.3"
  }
 },
 "nbformat": 4,
 "nbformat_minor": 2
}
